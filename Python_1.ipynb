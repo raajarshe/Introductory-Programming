{
 "cells": [
  {
   "cell_type": "code",
   "execution_count": null,
   "metadata": {},
   "outputs": [],
   "source": [
    "# print sum of numbers in list.\n",
    "def raj(number):\n",
    "    raj= 0\n",
    "    for x in number:\n",
    "        raj = raj+x\n",
    "    return raj\n",
    "print (raj([1,2,6,4]))"
   ]
  },
  {
   "cell_type": "code",
   "execution_count": null,
   "metadata": {},
   "outputs": [],
   "source": [
    "# print multiplication of numbers in list.\n",
    "def raj(number):\n",
    "    raj= 1\n",
    "    for x in number:\n",
    "        raj = raj*x\n",
    "    return raj\n",
    "print (raj([1,2,6,4]))"
   ]
  },
  {
   "cell_type": "code",
   "execution_count": null,
   "metadata": {},
   "outputs": [],
   "source": [
    "#to find the maximum among the list.\n",
    "def raj(number):\n",
    "    max = number[ 1]\n",
    "    for a in number:\n",
    "        if a > max:\n",
    "            max = a\n",
    "    return max\n",
    "print (raj([0,-2,-6,-4]))"
   ]
  },
  {
   "cell_type": "code",
   "execution_count": null,
   "metadata": {},
   "outputs": [],
   "source": [
    "#to find the minimum among the list.\n",
    "def raj(number):\n",
    "    min = number[ 1]\n",
    "    for a in number:\n",
    "        if a < min:\n",
    "            min = a\n",
    "    return min\n",
    "print (raj([0,-2,-6,-4]))"
   ]
  },
  {
   "cell_type": "code",
   "execution_count": null,
   "metadata": {},
   "outputs": [],
   "source": [
    "#To count the number of strings where the string length is 2 or more and the first and last character are same from a given list of strings.\n",
    "def raj(word):\n",
    "    c = 0\n",
    "    for w in word:\n",
    "        if len(w) > 1 and w[0] == w[-1]:\n",
    "            c= c+1\n",
    "    return c\n",
    "print(raj(['aba','sat','1334321', 'xyt', 'aba', '122']))\n",
    "\n"
   ]
  },
  {
   "cell_type": "code",
   "execution_count": null,
   "metadata": {},
   "outputs": [],
   "source": [
    "#to arange in acending order by last element  of a tuple.\n",
    "def raj(n): return n[-1]\n",
    "def sort_list(tuples):\n",
    "    return sorted(tuples, key=raj)\n",
    "print(sort_list([(2, 5), (1, 2), (4, 4), (2, 3), (2, 1)]))"
   ]
  },
  {
   "cell_type": "code",
   "execution_count": null,
   "metadata": {},
   "outputs": [],
   "source": [
    "#to arange in dcending order by last element  of a tuple.\n",
    "def raj(n): return n[-1]\n",
    "def sort_list(tuples):\n",
    "    return sorted(reverse=true,(tuples, key=raj))\n",
    "print(sort_list([(2, 5), (1, 2), (4, 4), (2, 3), (2, 1)]))"
   ]
  },
  {
   "cell_type": "code",
   "execution_count": null,
   "metadata": {},
   "outputs": [],
   "source": [
    "#TO REMOVE DUBLICATE\n",
    "a = [10,20,30,20,10,50,60,40,80,50,40]\n",
    "\n",
    "dup = set()\n",
    "uniq = []\n",
    "for x in a:\n",
    "    if x not in dup:\n",
    "        uniq.append(x)\n",
    "        dup.add(x)\n",
    "print(dup)"
   ]
  },
  {
   "cell_type": "code",
   "execution_count": null,
   "metadata": {},
   "outputs": [],
   "source": [
    "#to delete specfic variables from a list.\n",
    "color = ['Delhi', 'Gurugram', 'Lucknow', 'Bhopal', 'Patna', 'Kanpur']\n",
    "color = [x for (i,x) in enumerate(color) if i not in (0,2,4)]\n",
    "print(color)"
   ]
  },
  {
   "cell_type": "code",
   "execution_count": null,
   "metadata": {},
   "outputs": [],
   "source": [
    "#to check if listy is empty or not\n",
    "l = [1,2,3,4,5,6]\n",
    "if not l:\n",
    "    print(\"List is empty\")\n",
    "else:\n",
    "    print(\" List is not empty\")"
   ]
  },
  {
   "cell_type": "code",
   "execution_count": null,
   "metadata": {},
   "outputs": [],
   "source": [
    "#to print a dublicate list.\n",
    "o_l = [10, 22, 44, 23, 4]\n",
    "n_l = list(o_l)\n",
    "print(o_l)\n",
    "print(n_l)"
   ]
  },
  {
   "cell_type": "code",
   "execution_count": null,
   "metadata": {},
   "outputs": [],
   "source": [
    "#to print word of more than n aphabets in a given sentence.\n",
    "\n",
    "def l_word(n, str):\n",
    "    w_l = []\n",
    "    txt = str.split(\" \")\n",
    "    for x in txt:\n",
    "        if len(x) > n:\n",
    "            w_l.append(x)\n",
    "    return w_l\t\n",
    "print(l_word(1, \"Hi he us cool and calm he doesnt makes mistakes.\"))\n"
   ]
  },
  {
   "cell_type": "code",
   "execution_count": null,
   "metadata": {},
   "outputs": [],
   "source": [
    "#to print true or false depending upon the common variable in the list\n",
    "def cdata(lst, lit):\n",
    "    r = False;\n",
    "    for x in lst:\n",
    "        for y in lit:\n",
    "            if x == y:\n",
    "                r = True\n",
    "                return r\n",
    "print(cdata([1,2,3,4,5], [5,6,7,8,9]))\n",
    "print(cdata([1,2,3,4,5], [6,7,8,9]))\n",
    "print(cdata([1,2,3,4,5], [6,7,8,9]))"
   ]
  },
  {
   "cell_type": "code",
   "execution_count": null,
   "metadata": {},
   "outputs": [],
   "source": [
    "array = [[ ['#' for col in range(2)] for col in range(2)] for row in range(2)]\n",
    "print(array)"
   ]
  },
  {
   "cell_type": "code",
   "execution_count": null,
   "metadata": {},
   "outputs": [],
   "source": [
    "#to shuffle a list\n",
    "from random import shuffle\n",
    "city = ['Ranchi', 'Gurugram', 'Lucknow', 'Bombay', 'Pune', 'Noida']\n",
    "shuffle(city)\n",
    "print(city)\n"
   ]
  },
  {
   "cell_type": "code",
   "execution_count": null,
   "metadata": {},
   "outputs": [],
   "source": [
    "#to print square of a certain range of a numbers from given list.\n",
    "\n",
    "def pV():\n",
    "    l = list()\n",
    "    for i in range(10,21):\n",
    "        l.append(i**2)\n",
    "    print(l[:4])\n",
    "    print(l[-5:])\n",
    "    print(l[5:-5])\n",
    "    print(l[2:6])\n",
    "pV()    "
   ]
  },
  {
   "cell_type": "code",
   "execution_count": null,
   "metadata": {},
   "outputs": [],
   "source": [
    "# to generate and print a list except for the first 5 elements, where the values are square of numbers between 1 and 30\n",
    "def pV():\n",
    "    l = list()\n",
    "    for i in range(1,21):\n",
    "        l.append(i**2)\n",
    "    print(l[5:])\n",
    "\n",
    "pV()"
   ]
  },
  {
   "cell_type": "code",
   "execution_count": null,
   "metadata": {},
   "outputs": [],
   "source": [
    "#to genrate permutations of a list.\n",
    "import itertools\n",
    "print(list(itertools.permutations([2,4,6])))\n",
    "print(list(itertools.product([2,4,6])))"
   ]
  },
  {
   "cell_type": "code",
   "execution_count": null,
   "metadata": {},
   "outputs": [],
   "source": [
    "#to print difference between 2 list.\n",
    "list1 = [1,2,3,4,5]\n",
    "list2 = [5,4,3]\n",
    "print(list(set(list1) - set(list2)))"
   ]
  },
  {
   "cell_type": "code",
   "execution_count": null,
   "metadata": {},
   "outputs": [],
   "source": [
    "#to access index of a list\n",
    "n = [5, 15, 35, 8, 98]\n",
    "for n_index, n_val in enumerate(n):\n",
    "    print(n_index, n_val)\n"
   ]
  },
  {
   "cell_type": "code",
   "execution_count": null,
   "metadata": {},
   "outputs": [],
   "source": [
    "#to convert list of Character into string.\n",
    "s = ['a', 'b', 'c', 'd']\n",
    "str1 = ''.join(s)\n",
    "print(str1)"
   ]
  },
  {
   "cell_type": "code",
   "execution_count": null,
   "metadata": {},
   "outputs": [],
   "source": [
    "#to find index of an item\n",
    "\n",
    "num =[10, 30, 4, -6]\n",
    "print(num.index(4))"
   ]
  },
  {
   "cell_type": "code",
   "execution_count": null,
   "metadata": {},
   "outputs": [],
   "source": [
    "#TO merge a multiple list into single list\n",
    "import itertools\n",
    "o_l = [[2,4,6],[1,3,5], [9], [6,7,8]]\n",
    "new_l = list(itertools.chain(*o_l))\n",
    "print(new_l)"
   ]
  },
  {
   "cell_type": "code",
   "execution_count": null,
   "metadata": {},
   "outputs": [],
   "source": [
    "#to append /merge different list into a single list.\n",
    "l1 = [1, 2, 3, 4]\n",
    "l2 = ['Ranchi', 'Goa', 'Bhopal','Kanpur']\n",
    "final = l1 + l2\n",
    "print(final)\n"
   ]
  },
  {
   "cell_type": "code",
   "execution_count": null,
   "metadata": {},
   "outputs": [],
   "source": [
    "#to print a randaom value from a list.\n",
    "import random\n",
    "list= ['Rahul','Ram','Ramesh','Tarun','Tanuj','Aman','Saurav']\n",
    "print(random.choice(list))"
   ]
  },
  {
   "cell_type": "code",
   "execution_count": null,
   "metadata": {},
   "outputs": [],
   "source": [
    "#to print unique values from a list\n",
    "\n",
    "x = [10, 20, 30, 40, 20, 50, 60, 40]\n",
    "print(\"Original List : \",x)\n",
    "s= set(x)\n",
    "y = list(s)\n",
    "print(\"List of unique numbers : \",y)\n",
    "\n",
    "\n",
    "\n"
   ]
  },
  {
   "cell_type": "code",
   "execution_count": null,
   "metadata": {},
   "outputs": [],
   "source": [
    "#to count frequency of element in a list.\n",
    "import collections\n",
    "list = [1,1,1,1,2,2,2,2,4,4,5,5,3]\n",
    "print(\"Original List : \",list)\n",
    "x= collections.Counter(list)\n",
    "print(\"Frequency of the elements present in the List : \",x)"
   ]
  },
  {
   "cell_type": "code",
   "execution_count": null,
   "metadata": {},
   "outputs": [],
   "source": [
    "#to print prime numbers upto a certain limit, using Erathosthenes formla.\n",
    "\n",
    "def prim_erato(n):\n",
    "    prime_list=[]\n",
    "    for i in range(2, n+1):\n",
    "        if i not in prime_list:\n",
    "            print (i)\n",
    "            for  j in range(i*i,n+1,i):\n",
    "                prime_list.append(j)\n",
    "print(prim_erato(18))"
   ]
  },
  {
   "cell_type": "code",
   "execution_count": null,
   "metadata": {},
   "outputs": [],
   "source": [
    "# To create a list by concatenating a given list which range goes from 1 to n.\n",
    "\n",
    "list1 = ['a','b']\n",
    "a= 5\n",
    "list2=['{}{}'.format(x, y) for y in range(1, a+1) for x in list1]\n",
    "print(list2)\n",
    "\n"
   ]
  },
  {
   "cell_type": "code",
   "execution_count": null,
   "metadata": {},
   "outputs": [],
   "source": [
    "#to get variable unique identification number or string.\n",
    "x = 2\n",
    "print(format(id(x), 'x'))\n",
    "s = 'Raajarshe'\n",
    "print(format(id(s), 'x')) "
   ]
  },
  {
   "cell_type": "code",
   "execution_count": null,
   "metadata": {},
   "outputs": [],
   "source": [
    "#To find common items from given lists\n",
    "\n",
    "clr1 = \"Red\", \"Green\", \"Orange\", \"White\"\n",
    "clr2 = \"Black\", \"Navy\", \"Blue\", \"Pink\"\n",
    "print(set(clr1) & set(clr2))"
   ]
  },
  {
   "cell_type": "code",
   "execution_count": null,
   "metadata": {},
   "outputs": [],
   "source": [
    "#to convert list of multiple integers into a single integer.\n",
    "l = [23,45,67,89]\n",
    "print(\"Original List: \",l)\n",
    "x = int(\"\".join(map(str, l)))\n",
    "print(\"Single Integer: \",x)"
   ]
  },
  {
   "cell_type": "code",
   "execution_count": null,
   "metadata": {},
   "outputs": [],
   "source": [
    "#to split a list based on first character of word.\n",
    "\n",
    "from itertools import groupby\n",
    "from operator import itemgetter\n",
    "\n",
    "word_list = ['because','had','dont','said','maiden','known','thought',\n",
    "     'listen','given','usually','asked','worked','felt','called','zebra','xmas','right']\n",
    "\n",
    "for letter, words in groupby(sorted(word_list), key=itemgetter(0)):\n",
    "    print(letter)\n",
    "    for word in words:\n",
    "        print(word)"
   ]
  },
  {
   "cell_type": "code",
   "execution_count": null,
   "metadata": {},
   "outputs": [],
   "source": [
    "#to create a multiple tupple.\n",
    "o= {}\n",
    "for i in range(1,12):\n",
    "    o[str(i)] = ['a','b','c']\n",
    "print(o)"
   ]
  },
  {
   "cell_type": "code",
   "execution_count": null,
   "metadata": {},
   "outputs": [],
   "source": [
    "#to print missing and aditional values of two lists.\n",
    "\n",
    "lst1 = ['a','b','c','d','e','f']\n",
    "lst2 = ['d','e','f','g','h']\n",
    "print('Missing values in first list: ', ','.join(set(lst2).difference(lst1)))\n",
    "print('Additional values in first list: ', ','.join(set(lst1).difference(lst2)))\n"
   ]
  },
  {
   "cell_type": "code",
   "execution_count": 1,
   "metadata": {},
   "outputs": [
    {
     "name": "stdout",
     "output_type": "stream",
     "text": [
      "[[1, 2, 3, 4, 5], [6, 7, 8, 9, 10], [11, 12, 13, 14, 15], [16, 17, 18, 19, 20], [21, 22, 23, 24, 25], [26, 27, 28, 29, 30]]\n"
     ]
    }
   ],
   "source": [
    "#to genrate group of five consiquitive numbers. \n",
    "l = [[5*i + j for j in range(1,6)] for i in range(6)]\n",
    "print(l)\n"
   ]
  },
  {
   "cell_type": "code",
   "execution_count": 1,
   "metadata": {},
   "outputs": [
    {
     "name": "stdout",
     "output_type": "stream",
     "text": [
      "Enter range5\n",
      "1 2 3 4 5 "
     ]
    }
   ],
   "source": [
    "#to print natural number upto a given list.\n",
    "n = int(input(\"Enter range\"))\n",
    "for i in range (n):\n",
    "    i=i+1\n",
    "    print(i,end=' ')"
   ]
  },
  {
   "cell_type": "code",
   "execution_count": 2,
   "metadata": {},
   "outputs": [
    {
     "name": "stdout",
     "output_type": "stream",
     "text": [
      "Enter a number : 67\n",
      "Number is prime\n"
     ]
    }
   ],
   "source": [
    "#to check if a number is prime or not\n",
    "n = int(input(\"Enter a number : \"))\n",
    "for i in range(2,n):\n",
    "    if (n%i)==0:\n",
    "        print(\"Number is  not prime\")\n",
    "        break\n",
    "else: \n",
    "        print(\"Number is prime\")\n",
    "        "
   ]
  },
  {
   "cell_type": "code",
   "execution_count": 112,
   "metadata": {},
   "outputs": [
    {
     "name": "stdout",
     "output_type": "stream",
     "text": [
      "Enter the number 5\n",
      "2\n",
      "22\n",
      "222\n",
      "2222\n",
      "22222\n"
     ]
    }
   ],
   "source": [
    "#pattern\n",
    "n= int(input(\"Enter the number \"))\n",
    "for i in range(1,n+1):\n",
    "    for j in range(1,i+1):\n",
    "        print('2',end=\"\")\n",
    "    print(\"\")"
   ]
  },
  {
   "cell_type": "code",
   "execution_count": 114,
   "metadata": {},
   "outputs": [
    {
     "name": "stdout",
     "output_type": "stream",
     "text": [
      "Enter a number :5\n",
      "1  \n",
      "1 2  \n",
      "1 2 3  \n",
      "1 2 3 4  \n",
      "1 2 3 4 5  \n"
     ]
    }
   ],
   "source": [
    "n= int(input(\"Enter a number :\"))\n",
    "for i in range (1,n+1): \n",
    "    for j in range(1,i+1):\n",
    "        print(j,end=' ')\n",
    "    print(\" \")\n"
   ]
  },
  {
   "cell_type": "code",
   "execution_count": 131,
   "metadata": {},
   "outputs": [
    {
     "name": "stdout",
     "output_type": "stream",
     "text": [
      "Enter a number :5\n",
      "1 2 3 4  \n",
      "1 2 3  \n",
      "1 2  \n",
      "1  \n",
      " \n",
      " \n"
     ]
    }
   ],
   "source": [
    "n= int(input(\"Enter a number :\"))\n",
    "for i in range(0,n+1): \n",
    "    for j in range(1,n-i):\n",
    "        print(j,end=' ')\n",
    "    print(\" \")"
   ]
  },
  {
   "cell_type": "code",
   "execution_count": 3,
   "metadata": {},
   "outputs": [
    {
     "name": "stdout",
     "output_type": "stream",
     "text": [
      "Enter a number :5\n",
      "5 4 3 2 1  \n",
      "4 3 2 1  \n",
      "3 2 1  \n",
      "2 1  \n",
      "1  \n"
     ]
    }
   ],
   "source": [
    "n= int(input(\"Enter a number :\"))\n",
    "for i in range (0,n): \n",
    "    for j in range(n-i,0,-1):\n",
    "        print(j,end=' ')\n",
    "    print(\" \")"
   ]
  },
  {
   "cell_type": "code",
   "execution_count": 132,
   "metadata": {},
   "outputs": [
    {
     "name": "stdout",
     "output_type": "stream",
     "text": [
      "Enter a number: 5\n",
      "2 4 6 8 10 "
     ]
    }
   ],
   "source": [
    "n=int(input(\"Enter a number: \"))\n",
    "for i in range(1,n+1):\n",
    "    x=i*2\n",
    "    print(x,end=' ')"
   ]
  },
  {
   "cell_type": "code",
   "execution_count": 133,
   "metadata": {},
   "outputs": [
    {
     "name": "stdout",
     "output_type": "stream",
     "text": [
      "Enter a number: 5\n",
      "3 6 9 12 15 "
     ]
    }
   ],
   "source": [
    "n=int(input(\"Enter a number: \"))\n",
    "for i in range(1,n+1):\n",
    "    x=i*3\n",
    "    print(x,end=' ')"
   ]
  },
  {
   "cell_type": "code",
   "execution_count": 143,
   "metadata": {},
   "outputs": [
    {
     "name": "stdout",
     "output_type": "stream",
     "text": [
      "Enter the number 5\n",
      "* \n",
      "* * \n",
      "* * * \n",
      "* * * * \n",
      "* * * * * \n"
     ]
    }
   ],
   "source": [
    "n= int(input(\"Enter the number \"))\n",
    "for i in range(1,n+1):\n",
    "    for j in range(1,i+1):\n",
    "        print('*',end=\" \")\n",
    "    print(\"\")"
   ]
  },
  {
   "cell_type": "code",
   "execution_count": 141,
   "metadata": {},
   "outputs": [
    {
     "name": "stdout",
     "output_type": "stream",
     "text": [
      "Enter a number :5\n",
      "* * * * *  \n",
      "* * * *  \n",
      "* * *  \n",
      "* *  \n",
      "*  \n"
     ]
    }
   ],
   "source": [
    "n= int(input(\"Enter a number :\"))\n",
    "for i in range (1,n+1): \n",
    "    for j in range(i,n+1):\n",
    "        print('*',end=' ')\n",
    "    print(\" \")"
   ]
  },
  {
   "cell_type": "code",
   "execution_count": 144,
   "metadata": {},
   "outputs": [
    {
     "name": "stdout",
     "output_type": "stream",
     "text": [
      "Enter a number :5\n",
      "* * * * *  \n",
      "* * * *  \n",
      "* * *  \n",
      "* *  \n",
      "*  \n"
     ]
    }
   ],
   "source": [
    "n= int(input(\"Enter a number :\"))\n",
    "for i in range (0,n): \n",
    "    for j in range(n-i,0,-1):\n",
    "        print('*',end=' ')\n",
    "    print(\" \")"
   ]
  },
  {
   "cell_type": "code",
   "execution_count": 7,
   "metadata": {},
   "outputs": [
    {
     "name": "stdout",
     "output_type": "stream",
     "text": [
      "Enter a number: 6\n",
      "Enter a  power: 2\n",
      "The output is: 36.0\n"
     ]
    }
   ],
   "source": [
    "#to print power of a number\n",
    "from math import pow\n",
    "n= int(input('Enter a number: '))\n",
    "m= int(input('Enter a  power: '))\n",
    "o= pow(n,m)\n",
    "print('The output is:',o)"
   ]
  },
  {
   "cell_type": "code",
   "execution_count": 189,
   "metadata": {},
   "outputs": [
    {
     "name": "stdout",
     "output_type": "stream",
     "text": [
      "Enter a number: 10\n",
      "4 16 64 256 1024 "
     ]
    }
   ],
   "source": [
    "# to print 2^n in series upto a given range , where n is even values in the range.\n",
    "from math import pow\n",
    "n=int(input(\"Enter a number: \"))\n",
    "for i in range(1,n+1):\n",
    "    if(i%2==0):\n",
    "        x=pow(2,i)\n",
    "        print(int(x),end=\" \")\n",
    "    \n",
    "    "
   ]
  },
  {
   "cell_type": "code",
   "execution_count": 185,
   "metadata": {},
   "outputs": [
    {
     "name": "stdout",
     "output_type": "stream",
     "text": [
      "Enter a number: 30\n",
      "3 9 15 21 27 33 39 45 51 57 63 69 75 81 87 "
     ]
    }
   ],
   "source": [
    "#to print a range of multiple of 3, with no even values up to range n\n",
    "n=int(input(\"Enter a number: \"))\n",
    "for i in range(1,n):\n",
    "    if(i%2!=0):\n",
    "        x=i*3\n",
    "        print(x,end=\" \")"
   ]
  },
  {
   "cell_type": "code",
   "execution_count": null,
   "metadata": {},
   "outputs": [],
   "source": []
  }
 ],
 "metadata": {
  "kernelspec": {
   "display_name": "Python 3",
   "language": "python",
   "name": "python3"
  },
  "language_info": {
   "codemirror_mode": {
    "name": "ipython",
    "version": 3
   },
   "file_extension": ".py",
   "mimetype": "text/x-python",
   "name": "python",
   "nbconvert_exporter": "python",
   "pygments_lexer": "ipython3",
   "version": "3.7.6"
  }
 },
 "nbformat": 4,
 "nbformat_minor": 4
}
